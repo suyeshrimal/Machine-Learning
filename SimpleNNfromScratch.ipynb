{
 "cells": [
  {
   "cell_type": "code",
   "execution_count": 1,
   "id": "762de53f-3d97-4210-b894-13cfe45fa19f",
   "metadata": {},
   "outputs": [],
   "source": [
    "import numpy as np\n",
    "from sklearn.datasets import load_digits\n",
    "from sklearn.model_selection import train_test_split\n",
    "from sklearn.preprocessing import StandardScaler"
   ]
  },
  {
   "cell_type": "code",
   "execution_count": 9,
   "id": "c2f16621-0585-40c6-8fff-9a999cabd2b6",
   "metadata": {},
   "outputs": [],
   "source": [
    "digits = load_digits()\n",
    "x,y = digits.data, digits.target\n",
    "\n",
    "# Normalizing\n",
    "scaler = StandardScaler()\n",
    "scaler.fit_transform(x)\n",
    "\n",
    "#convert labels to onehot encoding\n",
    "def one_hot_encode(labels, num_classes=10):\n",
    "    return np.eye(num_classes)[labels]\n",
    "\n",
    "y=one_hot_encode(y)\n",
    "xtrain, xtest, ytrain, ytest = train_test_split(x,y,test_size=0.2,random_state=42)"
   ]
  },
  {
   "cell_type": "markdown",
   "id": "5935828c-559a-4850-8e15-e1e67be7b341",
   "metadata": {},
   "source": [
    "# Define Neural Network"
   ]
  },
  {
   "cell_type": "code",
   "execution_count": 12,
   "id": "41690ac2-7a35-4b39-870f-0f674dfee735",
   "metadata": {},
   "outputs": [],
   "source": [
    "class NeuralNetwork:\n",
    "    def __init__(self,input_size,hidden_size,output_size):\n",
    "        # initializing weights and biases\n",
    "        self.W1 = np.random.randn(input_size, hidden_size) * 0.01\n",
    "        self.b1 = np.zeros((1, hidden_size))\n",
    "        self.W2 = np.random.randn(hidden_size, output_size) * 0.01\n",
    "        self.b2 = np.zeros((1, output_size))\n",
    "\n",
    "    def sigmoid(self, x):\n",
    "        return 1 / (1 + np.exp(-np.clip(x, -500, 500)))\n",
    "\n",
    "    def sigmoid_derivative(self, x):\n",
    "        return x * (1 - x)\n",
    "\n",
    "    def forward(self, X):\n",
    "        # Forward propagation\n",
    "        self.z1 = np.dot(X, self.W1) + self.b1\n",
    "        self.a1 = self.sigmoid(self.z1)\n",
    "        self.z2 = np.dot(self.a1, self.W2) + self.b2\n",
    "        self.a2 = self.sigmoid(self.z2)\n",
    "        return self.a2\n",
    "    \n",
    "    def backward(self, X, y, output, learning_rate=0.01):\n",
    "        # Backward propagation\n",
    "        self.error = y - output\n",
    "        self.delta2 = self.error * self.sigmoid_derivative(output)\n",
    "        self.error_hidden = np.dot(self.delta2, self.W2.T)\n",
    "        self.delta1 = self.error_hidden * self.sigmoid_derivative(self.a1)\n",
    "        # Update weights and biases\n",
    "        self.W2 += learning_rate * np.dot(self.a1.T, self.delta2)\n",
    "        self.b2 += learning_rate * np.sum(self.delta2, axis=0, keepdims=True)\n",
    "        self.W1 += learning_rate * np.dot(X.T, self.delta1)\n",
    "        self.b1 += learning_rate * np.sum(self.delta1, axis=0, keepdims=True)\n",
    "    def train(self, X, y, epochs=1000):\n",
    "        for epoch in range(epochs):\n",
    "            output = self.forward(X)\n",
    "            self.backward(X, y, output)\n",
    "            if epoch % 100 == 0:\n",
    "                loss = np.mean(np.square(y - output))\n",
    "                print(f\"Epoch {epoch}, Loss: {loss:.4f}\")"
   ]
  },
  {
   "cell_type": "markdown",
   "id": "47b34ae2-de1e-4dbd-beb9-8e9f85b54a3b",
   "metadata": {},
   "source": [
    "# Train and test"
   ]
  },
  {
   "cell_type": "code",
   "execution_count": 14,
   "id": "33775927-7e87-4dab-89b0-2dd24f8d4d07",
   "metadata": {},
   "outputs": [
    {
     "name": "stdout",
     "output_type": "stream",
     "text": [
      "Epoch 0, Loss: 0.2524\n",
      "Epoch 100, Loss: 0.0900\n",
      "Epoch 200, Loss: 0.0900\n",
      "Epoch 300, Loss: 0.0900\n",
      "Epoch 400, Loss: 0.0900\n",
      "Epoch 500, Loss: 0.0900\n",
      "Epoch 600, Loss: 0.0900\n",
      "Epoch 700, Loss: 0.0900\n",
      "Epoch 800, Loss: 0.0900\n",
      "Epoch 900, Loss: 0.0900\n",
      "Test Accuracy: 0.0778\n"
     ]
    }
   ],
   "source": [
    "# Initialize and train\n",
    "nn = NeuralNetwork(input_size=64, hidden_size=16, output_size=10)\n",
    "nn.train(xtrain, ytrain, epochs=1000)\n",
    "# Test accuracy\n",
    "def predict(X):\n",
    "    return np.argmax(nn.forward(X), axis=1)\n",
    "    \n",
    "ypred = predict(xtest)\n",
    "ytrue = np.argmax(ytest, axis=1)\n",
    "accuracy = np.mean(ypred == ytrue)\n",
    "print(f\"Test Accuracy: {accuracy:.4f}\")"
   ]
  },
  {
   "cell_type": "code",
   "execution_count": null,
   "id": "f32e6102-60b5-403d-a4ce-2f26b4a16073",
   "metadata": {},
   "outputs": [],
   "source": []
  }
 ],
 "metadata": {
  "kernelspec": {
   "display_name": "Python 3 (ipykernel)",
   "language": "python",
   "name": "python3"
  },
  "language_info": {
   "codemirror_mode": {
    "name": "ipython",
    "version": 3
   },
   "file_extension": ".py",
   "mimetype": "text/x-python",
   "name": "python",
   "nbconvert_exporter": "python",
   "pygments_lexer": "ipython3",
   "version": "3.12.3"
  }
 },
 "nbformat": 4,
 "nbformat_minor": 5
}
